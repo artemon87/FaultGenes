{
 "cells": [
  {
   "cell_type": "code",
   "execution_count": 25,
   "metadata": {
    "collapsed": true
   },
   "outputs": [],
   "source": [
    "import matplotlib.pyplot as plt\n",
    "import gensim\n",
    "import numpy as np\n",
    "import spacy\n",
    "import pandas as pd"
   ]
  },
  {
   "cell_type": "code",
   "execution_count": 26,
   "metadata": {
    "collapsed": true
   },
   "outputs": [],
   "source": [
    "df_NOVA=pd.read_csv(\"/Users/artemkovtunenko/Downloads/df.csv\")"
   ]
  },
  {
   "cell_type": "code",
   "execution_count": 32,
   "metadata": {
    "collapsed": true
   },
   "outputs": [],
   "source": [
    "df_NOVA_fault_details = df_NOVA[['Fault_Details_lp']]\n",
    "df_NOVA_new_details = df_NOVA[['newDetails']]"
   ]
  },
  {
   "cell_type": "code",
   "execution_count": 31,
   "metadata": {},
   "outputs": [
    {
     "data": {
      "text/plain": [
       "<bound method NDFrame.head of                                       Fault_Details_lp\n",
       "0    Currently, during nova-compute restart, when C...\n",
       "1    Cinder volumes can get stuck in a state of 'at...\n",
       "2    security_group_default_rules.py in plugs/v3 ar...\n",
       "3    Steps to reproduce:\\r\\n\\r\\n1. Boot a VM from t...\n",
       "4    Version: 1:2015.1.0-0ubuntu1~cloud0 (Kilo)\\r\\n...\n",
       "5    As of today it looks like all jobs fail due to...\n",
       "6    When running in the upstream gate, test_list_s...\n",
       "7    I have a devstack change up which runs tempest...\n",
       "8    python-nova-2015.1.1-1.el7.noarch\\r\\nopenstack...\n",
       "9    This bug occurred with versions 2015.1.0 of No...\n",
       "10   If the user sets reclaim_instance_interval to ...\n",
       "11   I have an LXC compute node. I can create LXC c...\n",
       "12   Summary:\\r\\nIt fails to re-attach an encrypted...\n",
       "13   Looking briefly at the code of other drivers t...\n",
       "14   During migration of an instance, using block m...\n",
       "15   Openstack version:\\r\\nFrom git.\\r\\nstack@devst...\n",
       "16   \\r\\nMy simple openstack setup: total three hos...\n",
       "17   Volume based live migration is failing during ...\n",
       "18   When using Neutron there are edge cases when t...\n",
       "19   The nova metadata service uses the remote addr...\n",
       "20   version: commit ce5a2fb419f999bec0fb2c67413387...\n",
       "21   In current master branch with LVM as backend:\\...\n",
       "22   What happens is that the live migration task u...\n",
       "23   Description\\r\\n===========\\r\\nWhen launching m...\n",
       "24   Post copy live migration causes loss of networ...\n",
       "25   There have been several changes in community i...\n",
       "26   migration of shutdown instances doesn't exclud...\n",
       "27   This came up at the newton summit and the newt...\n",
       "28   Description\\r\\n===========\\r\\nAfter upgrading ...\n",
       "29   This patch that was backported to Mitaka made ...\n",
       "..                                                 ...\n",
       "704  my environment is:\\r\\nvcenter version 6.0, vsa...\n",
       "705  Currently default disk bus for libvirt+Xen HVM...\n",
       "706  https://review.openstack.org/282407\\r\\nDear bu...\n",
       "707  Description:\\r\\nWe use a Mitaka environment wi...\n",
       "708  newton code , we don't allow limit = -1 (API l...\n",
       "709  When installing and configuring nova with pupp...\n",
       "710  http://developer.openstack.org/api-ref/compute...\n",
       "711  The tag has a limited length, and in the curre...\n",
       "712  Starting from version 1.3.5, Libvirt allows to...\n",
       "713  Description\\r\\n===========\\r\\nIssue observed i...\n",
       "714  while sorting servers, user can pass sort_key ...\n",
       "715  \\r\\nkeystone.tests.unit.test_v3_federation.Web...\n",
       "716  Some columns from BuildRequest table in nova_a...\n",
       "717  Nova throws an HTTP 500 when trying to create ...\n",
       "718  \"In the [vnc] section, enable and configure re...\n",
       "719  Description\\r\\n===========\\r\\n\\r\\nIf a Keyston...\n",
       "720  createImage action on success returns the loca...\n",
       "721  Nova API sometimes reports a ProgrammingError ...\n",
       "722  Description\\r\\n===========\\r\\nThis is related ...\n",
       "723  When I tried to list all servers, n-api throws...\n",
       "724  https://github.com/openstack/nova/blob/master/...\n",
       "725  Description\\r\\n===========\\r\\nYou have an inst...\n",
       "726  The Quobyte drivers use getfattr to check the ...\n",
       "727  Description\\r\\n===============================...\n",
       "728  After merge of commit [1] command \"nova list -...\n",
       "729  Instances utilizing SR-IOV won't be able to st...\n",
       "730  http://developer.openstack.org/api-ref/compute...\n",
       "731  When executing 'tox -e docs', the following wa...\n",
       "732  The resource tracker has a dict, named 'tracke...\n",
       "733  Description\\r\\n===========\\r\\nA instance did n...\n",
       "\n",
       "[734 rows x 1 columns]>"
      ]
     },
     "execution_count": 31,
     "metadata": {},
     "output_type": "execute_result"
    }
   ],
   "source": [
    "df_NOVA_fault_details.head\n"
   ]
  },
  {
   "cell_type": "code",
   "execution_count": 37,
   "metadata": {
    "collapsed": true
   },
   "outputs": [],
   "source": [
    "lst_fault_details = [i for j,i in df_NOVA_fault_details.itertuples()]"
   ]
  },
  {
   "cell_type": "code",
   "execution_count": 41,
   "metadata": {},
   "outputs": [
    {
     "data": {
      "text/plain": [
       "\"Version: 1:2015.1.0-0ubuntu1~cloud0 (Kilo)\\r\\n\\r\\nI am having issues with backing images of disk.swap being deleted from the image cache.\\r\\n\\r\\nHere is part of the nova-compute log, although multiple instances have disk.swap with swap_256 as the base image, the image cache repeatedly tries to delete it:\\r\\n\\r\\n2015-05-14 08:08:15.080 4319 INFO nova.virt.libvirt.imagecache [req-967c82af-329e-42ff-aade-f4af2b4ba732 - - - - -] Base or swap file too young to remove: /var/lib/nova/instances/_base/swap_256\\r\\n2015-05-14 08:48:46.209 4319 INFO nova.virt.libvirt.imagecache [req-967c82af-329e-42ff-aade-f4af2b4ba732 - - - - -] Base or swap file too young to remove: /var/lib/nova/instances/_base/swap_256\\r\\n2015-05-14 09:29:00.814 4319 INFO nova.virt.libvirt.imagecache [req-967c82af-329e-42ff-aade-f4af2b4ba732 - - - - -] Base or swap file too young to remove: /var/lib/nova/instances/_base/swap_256\\r\\n2015-05-14 10:09:14.351 4319 INFO nova.virt.libvirt.imagecache [req-967c82af-329e-42ff-aade-f4af2b4ba732 - - - - -] Removing base or swap file: /var/lib/nova/instances/_base/swap_256\\r\\n2015-05-14 16:14:21.340 6479 INFO nova.virt.libvirt.imagecache [req-1d61428f-0b8b-4bae-9293-42ac99dc3f58 - - - - -] Base or swap file too young to remove: /var/lib/nova/instances/_base/swap_256\\r\\n2015-05-14 16:55:21.195 6479 INFO nova.virt.libvirt.imagecache [req-1d61428f-0b8b-4bae-9293-42ac99dc3f58 - - - - -] Base or swap file too young to remove: /var/lib/nova/instances/_base/swap_256\\r\\n2015-05-14 17:36:12.260 6479 INFO nova.virt.libvirt.imagecache [req-1d61428f-0b8b-4bae-9293-42ac99dc3f58 - - - - -] Base or swap file too young to remove: /var/lib/nova/instances/_base/swap_256\\r\\n\\r\\nI am NOT using shared storage for the instances directory, it is sitting on the local filesystem, and instances on the same host node are using the swap base file that the image cache is deleting.\\r\\n\\r\\nAs far as I can tell, it is attempting to delete it immediately after the swap image is created. Swap backing images of the form swap_512_512 are not deleted though (as opposed to just swap_512; I couldn't figure out what the difference is).\\r\\n\\r\\nReproduce: Create volume with swap disk\\r\\nTemporary solution: image_cache_manager_interval = -1Image-cache deleting active swap backing images\""
      ]
     },
     "execution_count": 41,
     "metadata": {},
     "output_type": "execute_result"
    }
   ],
   "source": [
    "lst_fault_details[4]"
   ]
  },
  {
   "cell_type": "code",
   "execution_count": 9,
   "metadata": {
    "collapsed": true
   },
   "outputs": [],
   "source": [
    "def clean(text):\n",
    "    return unicode(''.join([i if ord(i) < 128 else ' ' for i in text]))"
   ]
  },
  {
   "cell_type": "code",
   "execution_count": 12,
   "metadata": {},
   "outputs": [
    {
     "ename": "NameError",
     "evalue": "name 'unicode' is not defined",
     "output_type": "error",
     "traceback": [
      "\u001b[0;31m---------------------------------------------------------------------------\u001b[0m",
      "\u001b[0;31mNameError\u001b[0m                                 Traceback (most recent call last)",
      "\u001b[0;32m<ipython-input-12-016e720eb221>\u001b[0m in \u001b[0;36m<module>\u001b[0;34m()\u001b[0m\n\u001b[0;32m----> 1\u001b[0;31m \u001b[0mf\u001b[0m \u001b[0;34m=\u001b[0m \u001b[0mclean\u001b[0m\u001b[0;34m(\u001b[0m\u001b[0mfile\u001b[0m\u001b[0;34m)\u001b[0m\u001b[0;34m\u001b[0m\u001b[0m\n\u001b[0m",
      "\u001b[0;32m<ipython-input-9-cb86eff48d84>\u001b[0m in \u001b[0;36mclean\u001b[0;34m(text)\u001b[0m\n\u001b[1;32m      1\u001b[0m \u001b[0;32mdef\u001b[0m \u001b[0mclean\u001b[0m\u001b[0;34m(\u001b[0m\u001b[0mtext\u001b[0m\u001b[0;34m)\u001b[0m\u001b[0;34m:\u001b[0m\u001b[0;34m\u001b[0m\u001b[0m\n\u001b[0;32m----> 2\u001b[0;31m     \u001b[0;32mreturn\u001b[0m \u001b[0municode\u001b[0m\u001b[0;34m(\u001b[0m\u001b[0;34m''\u001b[0m\u001b[0;34m.\u001b[0m\u001b[0mjoin\u001b[0m\u001b[0;34m(\u001b[0m\u001b[0;34m[\u001b[0m\u001b[0mi\u001b[0m \u001b[0;32mif\u001b[0m \u001b[0mord\u001b[0m\u001b[0;34m(\u001b[0m\u001b[0mi\u001b[0m\u001b[0;34m)\u001b[0m \u001b[0;34m<\u001b[0m \u001b[0;36m128\u001b[0m \u001b[0;32melse\u001b[0m \u001b[0;34m' '\u001b[0m \u001b[0;32mfor\u001b[0m \u001b[0mi\u001b[0m \u001b[0;32min\u001b[0m \u001b[0mtext\u001b[0m\u001b[0;34m]\u001b[0m\u001b[0;34m)\u001b[0m\u001b[0;34m)\u001b[0m\u001b[0;34m\u001b[0m\u001b[0m\n\u001b[0m",
      "\u001b[0;31mNameError\u001b[0m: name 'unicode' is not defined"
     ]
    }
   ],
   "source": [
    "f = clean(file)"
   ]
  },
  {
   "cell_type": "code",
   "execution_count": 8,
   "metadata": {},
   "outputs": [
    {
     "ename": "NameError",
     "evalue": "name 'f' is not defined",
     "output_type": "error",
     "traceback": [
      "\u001b[0;31m---------------------------------------------------------------------------\u001b[0m",
      "\u001b[0;31mNameError\u001b[0m                                 Traceback (most recent call last)",
      "\u001b[0;32m<ipython-input-8-9a8ad92c50ca>\u001b[0m in \u001b[0;36m<module>\u001b[0;34m()\u001b[0m\n\u001b[0;32m----> 1\u001b[0;31m \u001b[0mf\u001b[0m\u001b[0;34m\u001b[0m\u001b[0m\n\u001b[0m",
      "\u001b[0;31mNameError\u001b[0m: name 'f' is not defined"
     ]
    }
   ],
   "source": [
    "f"
   ]
  },
  {
   "cell_type": "code",
   "execution_count": null,
   "metadata": {
    "collapsed": true
   },
   "outputs": [],
   "source": [
    "print(type(f))"
   ]
  },
  {
   "cell_type": "code",
   "execution_count": null,
   "metadata": {
    "collapsed": true
   },
   "outputs": [],
   "source": []
  },
  {
   "cell_type": "code",
   "execution_count": 7,
   "metadata": {},
   "outputs": [
    {
     "name": "stdout",
     "output_type": "stream",
     "text": [
      "hello\n"
     ]
    }
   ],
   "source": [
    "print('hello')\n",
    "\n"
   ]
  },
  {
   "cell_type": "code",
   "execution_count": 20,
   "metadata": {},
   "outputs": [
    {
     "name": "stdout",
     "output_type": "stream",
     "text": [
      "\n",
      "\u001b[93m    Warning: no model found for 'en'\u001b[0m\n",
      "\n",
      "    Only loading the 'en' tokenizer.\n",
      "\n"
     ]
    }
   ],
   "source": [
    "from spacy.en import English\n",
    "nlp = spacy.load(\"en\")"
   ]
  },
  {
   "cell_type": "code",
   "execution_count": 15,
   "metadata": {
    "collapsed": true
   },
   "outputs": [],
   "source": [
    "my_stop_words = [u'say', u'\\'s', u'Mr', u'be', u'said', u'says', u'saying', u'was', u'were']"
   ]
  },
  {
   "cell_type": "code",
   "execution_count": 21,
   "metadata": {
    "collapsed": true
   },
   "outputs": [],
   "source": [
    "for stopword in my_stop_words:\n",
    "    lexeme = nlp.vocab[stopword]\n",
    "    lexeme.is_stop = True"
   ]
  },
  {
   "cell_type": "code",
   "execution_count": 22,
   "metadata": {
    "collapsed": true
   },
   "outputs": [],
   "source": [
    "doc = nlp(file)"
   ]
  },
  {
   "cell_type": "code",
   "execution_count": 23,
   "metadata": {},
   "outputs": [
    {
     "data": {
      "text/plain": [
       "Hundreds of people have been forced to vacate their homes in the Southern Highlands of New South Wales as strong winds today pushed a huge bushfire towards the town of Hill Top. A new blaze near Goulburn, south-west of Sydney, has forced the closure of the Hume Highway. At about 4:00pm AEDT, a marked deterioration in the weather as a storm cell moved east across the Blue Mountains forced authorities to make a decision to evacuate people from homes in outlying streets at Hill Top in the New South Wales southern highlands. An estimated 500 residents have left their homes for nearby Mittagong. The New South Wales Rural Fire Service says the weather conditions which caused the fire to burn in a finger formation have now eased and about 60 fire units in and around Hill Top are optimistic of defending all properties. As more than 100 blazes burn on New Year's Eve in New South Wales, fire crews have been called to new fire at Gunning, south of Goulburn. While few details are available at this stage, fire authorities says it has closed the Hume Highway in both directions. Meanwhile, a new fire in Sydney's west is no longer threatening properties in the Cranebrook area. Rain has fallen in some parts of the Illawarra, Sydney, the Hunter Valley and the north coast. But the Bureau of Meteorology's Claire Richards says the rain has done little to ease any of the hundred fires still burning across the state. \"The falls have been quite isolated in those areas and generally the falls have been less than about five millimetres,\" she said. \"In some places really not significant at all, less than a millimetre, so there hasn't been much relief as far as rain is concerned. \"In fact, they've probably hampered the efforts of the firefighters more because of the wind gusts that are associated with those thunderstorms.\" "
      ]
     },
     "execution_count": 23,
     "metadata": {},
     "output_type": "execute_result"
    }
   ],
   "source": [
    "doc"
   ]
  },
  {
   "cell_type": "code",
   "execution_count": null,
   "metadata": {
    "collapsed": true
   },
   "outputs": [],
   "source": []
  }
 ],
 "metadata": {
  "kernelspec": {
   "display_name": "Python 3",
   "language": "python",
   "name": "python3"
  },
  "language_info": {
   "codemirror_mode": {
    "name": "ipython",
    "version": 3
   },
   "file_extension": ".py",
   "mimetype": "text/x-python",
   "name": "python",
   "nbconvert_exporter": "python",
   "pygments_lexer": "ipython3",
   "version": "3.6.1"
  }
 },
 "nbformat": 4,
 "nbformat_minor": 2
}
