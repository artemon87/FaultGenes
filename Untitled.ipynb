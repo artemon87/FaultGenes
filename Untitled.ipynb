{
 "cells": [
  {
   "cell_type": "code",
   "execution_count": 5,
   "metadata": {},
   "outputs": [],
   "source": [
    "import spacy\n",
    "nlp = spacy.load('en')"
   ]
  },
  {
   "cell_type": "code",
   "execution_count": 6,
   "metadata": {},
   "outputs": [],
   "source": [
    "\n",
    "nlp2 = spacy.load('en_core_web_sm')"
   ]
  },
  {
   "cell_type": "code",
   "execution_count": 17,
   "metadata": {},
   "outputs": [
    {
     "name": "stdout",
     "output_type": "stream",
     "text": [
      "(u'currently', u'currently', u'ADV', u'RB', u'advmod', u'xxxx', True, False)\n",
      "(u'restart', u'restart', u'VERB', u'VBP', u'ROOT', u'xxxx', True, False)\n",
      "(u'conf', u'conf', u'NOUN', u'NN', u'amod', u'xxxx', True, False)\n",
      "(u'resume', u'resume', u'NOUN', u'NN', u'compound', u'xxxx', True, False)\n",
      "(u'guests', u'guest', u'VERB', u'VBZ', u'compound', u'xxxx', True, False)\n",
      "(u'state', u'state', u'NOUN', u'NN', u'compound', u'xxxx', True, False)\n",
      "(u'host', u'host', u'NOUN', u'NN', u'compound', u'xxxx', True, False)\n",
      "(u'boot', u'boot', u'NOUN', u'NN', u'dobj', u'xxxx', True, False)\n",
      "(u'true', u'true', u'ADJ', u'JJ', u'amod', u'xxxx', True, False)\n",
      "(u'exist', u'exist', u'VERB', u'VBP', u'amod', u'xxxx', True, False)\n",
      "(u'state', u'state', u'NOUN', u'NN', u'compound', u'xxxx', True, False)\n",
      "(u'patch', u'patch', u'NOUN', u'NN', u'nsubj', u'xxxx', True, False)\n",
      "(u'leave', u'leave', u'VERB', u'VB', u'conj', u'xxxx', True, False)\n",
      "(u'original', u'original', u'ADJ', u'JJ', u'amod', u'xxxx', True, False)\n",
      "(u'state', u'state', u'NOUN', u'NN', u'dobj', u'xxxx', True, False)\n",
      "(u'directly', u'directly', u'ADV', u'RB', u'advmod', u'xxxx', True, False)\n",
      "(u'reboot', u'reboot', u'VERB', u'VBP', u'conj', u'xxxx', True, False)\n",
      "(u'back', u'back', u'ADJ', u'JJ', u'prt', u'xxxx', True, True)\n",
      "(u'errors', u'error', u'NOUN', u'NNS', u'dobj', u'xxxx', True, False)\n",
      "(u'state', u'state', u'NOUN', u'NN', u'nsubj', u'xxxx', True, False)\n",
      "(u'manually', u'manually', u'ADV', u'RB', u'advmod', u'xxxx', True, False)\n",
      "(u'change', u'change', u'NOUN', u'NN', u'conj', u'xxxx', True, False)\n",
      "(u'record', u'record', u'NOUN', u'NN', u'compound', u'xxxx', True, False)\n",
      "(u'state', u'state', u'NOUN', u'NN', u'compound', u'xxxx', True, False)\n",
      "(u'reboot', u'reboot', u'NOUN', u'NN', u'dobj', u'xxxx', True, False)\n",
      "(u'leave', u'leave', u'VERB', u'VBP', u'conj', u'xxxx', True, False)\n",
      "(u'original', u'original', u'ADJ', u'JJ', u'amod', u'xxxx', True, False)\n",
      "(u'state', u'state', u'NOUN', u'NN', u'compound', u'xxxx', True, False)\n",
      "(u'restart', u'restart', u'NOUN', u'NN', u'dobj', u'xxxx', True, False)\n"
     ]
    }
   ],
   "source": [
    "doc = nlp(u'currently restart conf resume guests state host boot true exist state patch leave original state directly reboot back errors state manually change record state reboot leave original state restart')\n",
    "\n",
    "for token in doc:\n",
    "    print(token.text, token.lemma_, token.pos_, token.tag_, token.dep_,\n",
    "          token.shape_, token.is_alpha, token.is_stop)"
   ]
  },
  {
   "cell_type": "code",
   "execution_count": 16,
   "metadata": {},
   "outputs": [
    {
     "name": "stdout",
     "output_type": "stream",
     "text": [
      "(u'conf resume guests state host boot', u'restart')\n",
      "(u'true exist state patch', u'leave')\n",
      "(u'original state', u'leave')\n",
      "(u'errors', u'reboot')\n",
      "(u'state', u'change')\n",
      "(u'record state reboot', u'change')\n",
      "(u'original state restart', u'leave')\n"
     ]
    }
   ],
   "source": [
    "nlp = spacy.load('en')\n",
    "doc = nlp(u'currently restart conf resume guests state host boot true exist state patch leave original state directly reboot back errors state manually change record state reboot leave original state restart')\n",
    "for chunk in doc.noun_chunks:\n",
    "    print(chunk.text,\n",
    "          chunk.root.head.text)"
   ]
  },
  {
   "cell_type": "code",
   "execution_count": 11,
   "metadata": {},
   "outputs": [
    {
     "name": "stdout",
     "output_type": "stream",
     "text": [
      "(u'Apple', 0, 5, u'ORG')\n",
      "(u'U.K.', 27, 31, u'GPE')\n",
      "(u'$1 billion', 44, 54, u'MONEY')\n"
     ]
    }
   ],
   "source": [
    "doc = nlp(u'Apple is looking at buying U.K. startup for $1 billion')\n",
    "\n",
    "for ent in doc.ents:\n",
    "    print(ent.text, ent.start_char, ent.end_char, ent.label_)"
   ]
  },
  {
   "cell_type": "code",
   "execution_count": 18,
   "metadata": {},
   "outputs": [],
   "source": [
    "k = 'https://spacy.io/usage/linguistic-features'"
   ]
  },
  {
   "cell_type": "code",
   "execution_count": null,
   "metadata": {},
   "outputs": [],
   "source": []
  }
 ],
 "metadata": {
  "kernelspec": {
   "display_name": "Python 2",
   "language": "python",
   "name": "python2"
  },
  "language_info": {
   "codemirror_mode": {
    "name": "ipython",
    "version": 2
   },
   "file_extension": ".py",
   "mimetype": "text/x-python",
   "name": "python",
   "nbconvert_exporter": "python",
   "pygments_lexer": "ipython2",
   "version": "2.7.9"
  }
 },
 "nbformat": 4,
 "nbformat_minor": 2
}
