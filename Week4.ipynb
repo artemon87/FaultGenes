{
 "cells": [
  {
   "cell_type": "code",
   "execution_count": 109,
   "metadata": {
    "collapsed": true
   },
   "outputs": [],
   "source": [
    "import os\n",
    "from sklearn.feature_extraction.text import TfidfVectorizer\n",
    "from sklearn.feature_extraction.text import CountVectorizer\n",
    "from sklearn import svm\n",
    "from sklearn.metrics import classification_report\n",
    "import pandas as pd\n",
    "from sklearn.multiclass import OneVsRestClassifier\n",
    "from sklearn import tree\n",
    "from sklearn.svm import LinearSVC\n",
    "from sklearn.pipeline import Pipeline\n",
    "from sklearn.feature_extraction.text import TfidfTransformer\n",
    "import math\n",
    "import numpy as np"
   ]
  },
  {
   "cell_type": "code",
   "execution_count": 2,
   "metadata": {},
   "outputs": [
    {
     "data": {
      "text/plain": [
       "'/private/var/tmp'"
      ]
     },
     "execution_count": 2,
     "metadata": {},
     "output_type": "execute_result"
    }
   ],
   "source": [
    "os.getcwd()"
   ]
  },
  {
   "cell_type": "code",
   "execution_count": 3,
   "metadata": {
    "collapsed": true
   },
   "outputs": [],
   "source": [
    "os.chdir('/Users/artemkovtunenko/Downloads')"
   ]
  },
  {
   "cell_type": "code",
   "execution_count": 247,
   "metadata": {},
   "outputs": [
    {
     "name": "stdout",
     "output_type": "stream",
     "text": [
      "348\n",
      "174\n",
      "174\n"
     ]
    }
   ],
   "source": [
    "df_NOVA=pd.read_csv(\"df_NOVA_Status_Severity_Filtered.csv\").dropna(axis=0, how='any')\n",
    "print(len(df_NOVA))\n",
    "train_NOVA = df_NOVA.sample(frac=0.5)\n",
    "print(len(train_NOVA))\n",
    "test_NOVA = df_NOVA.loc[~df_NOVA.index.isin(train_NOVA.index)]\n",
    "print(len(test_NOVA))"
   ]
  },
  {
   "cell_type": "code",
   "execution_count": 248,
   "metadata": {
    "collapsed": true
   },
   "outputs": [],
   "source": [
    "\n",
    "train_data = train_NOVA[['field_words_bag']]\n",
    "train_label = train_NOVA[['Classification']]\n",
    "test_data = test_NOVA[['field_words_bag']]\n",
    "test_label = test_NOVA[['Classification']]"
   ]
  },
  {
   "cell_type": "code",
   "execution_count": 249,
   "metadata": {
    "collapsed": true
   },
   "outputs": [],
   "source": [
    "clf = tree.DecisionTreeClassifier()"
   ]
  },
  {
   "cell_type": "code",
   "execution_count": 250,
   "metadata": {},
   "outputs": [
    {
     "data": {
      "text/plain": [
       "pandas.core.frame.DataFrame"
      ]
     },
     "execution_count": 250,
     "metadata": {},
     "output_type": "execute_result"
    }
   ],
   "source": [
    "type(train_data)\n"
   ]
  },
  {
   "cell_type": "code",
   "execution_count": 251,
   "metadata": {},
   "outputs": [
    {
     "name": "stdout",
     "output_type": "stream",
     "text": [
      "<class 'numpy.ndarray'>\n"
     ]
    }
   ],
   "source": [
    "\n",
    "train_data.dropna(axis=0, how='any')\n",
    "train_label.dropna(axis=0, how='any')\n",
    "test_data.dropna(axis=0, how='any')\n",
    "test_label.dropna(axis=0, how='any')\n",
    "\n",
    "train_data.dropna(axis=1, how='any')\n",
    "train_label.dropna(axis=1, how='any')\n",
    "test_data.dropna(axis=1, how='any')\n",
    "test_label.dropna(axis=1, how='any')\n",
    "\n",
    "train_data_np = train_data.as_matrix()\n",
    "train_label_np = train_label.as_matrix()\n",
    "test_data_np = test_data.as_matrix()\n",
    "test_label_np = test_label.as_matrix()\n",
    "\n",
    "print(type(train_data_np))"
   ]
  },
  {
   "cell_type": "code",
   "execution_count": 252,
   "metadata": {},
   "outputs": [
    {
     "data": {
      "text/plain": [
       "array([ '[different, process, neutron, send, exception, exception, handle, message, relay, correctly, example, follow, command, fail, restriction, interface, attach, expect, result, expect, command, fail, message, follow, port, belong, subnets, across, enter, prise, allow, actual, result, however, instead, message, relay, back, clientexception, server, either, incapable, perform, request, operation, http, request, follow, info, oslo, message, drivers, impl, rabbit, admin, admin, connect, amqp, server, admin, admin, catch, remote, badrequest, request, port, belong, subnets, across, enter, prise, allow, traceback, recent, call, last, local, python, dist, package, oslo, message, dispatcher, dispatch, reply, executor, callback, local, python, dist, package, oslo, message, dispatcher, dispatch, executor, callback, local, python, dist, ...]'], dtype=object)"
      ]
     },
     "execution_count": 252,
     "metadata": {},
     "output_type": "execute_result"
    }
   ],
   "source": [
    "train_data_np[0]\n"
   ]
  },
  {
   "cell_type": "code",
   "execution_count": 253,
   "metadata": {
    "collapsed": true
   },
   "outputs": [],
   "source": [
    "#_clf = clf.fit(train_data_np, train_label_np)"
   ]
  },
  {
   "cell_type": "code",
   "execution_count": 254,
   "metadata": {},
   "outputs": [
    {
     "data": {
      "text/plain": [
       "array(['Whitebox Testing'], dtype=object)"
      ]
     },
     "execution_count": 254,
     "metadata": {},
     "output_type": "execute_result"
    }
   ],
   "source": [
    "train_label_np[0]"
   ]
  },
  {
   "cell_type": "code",
   "execution_count": 255,
   "metadata": {
    "collapsed": true
   },
   "outputs": [],
   "source": [
    "classifier = Pipeline([\n",
    "    ('vectorizer', CountVectorizer()),\n",
    "    ('tfidf', TfidfTransformer()),\n",
    "    ('clf', OneVsRestClassifier(LinearSVC()))])"
   ]
  },
  {
   "cell_type": "code",
   "execution_count": 256,
   "metadata": {},
   "outputs": [
    {
     "data": {
      "text/plain": [
       "Pipeline(steps=[('vectorizer', CountVectorizer(analyzer='word', binary=False, decode_error='strict',\n",
       "        dtype=<class 'numpy.int64'>, encoding='utf-8', input='content',\n",
       "        lowercase=True, max_df=1.0, max_features=None, min_df=1,\n",
       "        ngram_range=(1, 1), preprocessor=None, stop_words=None,\n",
       "       ...lti_class='ovr', penalty='l2', random_state=None, tol=0.0001,\n",
       "     verbose=0),\n",
       "          n_jobs=1))])"
      ]
     },
     "execution_count": 256,
     "metadata": {},
     "output_type": "execute_result"
    }
   ],
   "source": [
    "classifier.fit(train_data_np.ravel(), train_label_np)"
   ]
  },
  {
   "cell_type": "code",
   "execution_count": 257,
   "metadata": {},
   "outputs": [
    {
     "name": "stdout",
     "output_type": "stream",
     "text": [
      "114 114\n",
      "field_words_bag Classification\n"
     ]
    }
   ],
   "source": [
    "print(train_data.index[2], train_label.index[2])\n",
    "for i,j in (zip(train_data, train_label)):\n",
    "    print(i,j)\n"
   ]
  },
  {
   "cell_type": "code",
   "execution_count": 258,
   "metadata": {},
   "outputs": [],
   "source": [
    "list_test_data = []\n",
    "list_test_label = []\n",
    "for i in test_data.index:\n",
    "    list_test_data.append(test_data['field_words_bag'][i])\n",
    "for i in test_label.index:\n",
    "    \n",
    "    list_test_label.append(test_label['Classification'][i])\n"
   ]
  },
  {
   "cell_type": "code",
   "execution_count": 259,
   "metadata": {},
   "outputs": [],
   "source": [
    "predicted = classifier.predict(list_test_data)"
   ]
  },
  {
   "cell_type": "code",
   "execution_count": 260,
   "metadata": {},
   "outputs": [],
   "source": [
    "predicted = classifier.predict(list_test_data)"
   ]
  },
  {
   "cell_type": "code",
   "execution_count": 261,
   "metadata": {},
   "outputs": [
    {
     "name": "stdout",
     "output_type": "stream",
     "text": [
      "[cinder, volumes, stick, state, attach,  => Volume unusable\n",
      "[step, reproduce, boot, shutoff, migrate => Whitebox Testing\n",
      "[version, ubuntu, cloud, kilo, issue, ba => Whitebox Testing\n",
      "[today, look, like, fail, miss, ephemera => Design Limitation\n",
      "[python, noarch, common, noarch, python, => Oversize\n",
      "[occur, versions, cinder, instal, bulk,  => Inconsistent state\n",
      "[user, reclaim, interval, anything, user => Resource Allocation\n",
      "[node, create, containers, work, fine, r => Whitebox Testing\n",
      "[summary, fail, attach, encrypt, create, => Compute Migration\n",
      "[look, briefly, code, drivers, report, x => Compute Migration\n",
      "[migration, block, migration, float, rou => Compute Migration\n",
      "[simple, setup, total, three, host, cont => Design Limitation\n",
      "[version, commit, create, boot, prior, d => Compute Migration\n",
      "[current, master, branch, backend, step, => Inconsistent state\n",
      "[post, copy, live, migration, cause, los => Compute Migration\n",
      "[several, change, community, newton, neu => Design Limitation\n",
      "[come, newton, summit, newton, midcycle, => Design Limitation\n",
      "[neutron, default, ocata, explicitly, sp => Incorrect Error Handling\n",
      "[attach, create, neutron, port, fail, po => Design Limitation\n",
      "[description, follow, findmnt, behaviour => Inconsistent state\n",
      "[hyper, driver, create, port, power, hyp => Compute Migration\n",
      "[device, support, microversion, port, ht => Whitebox Testing\n",
      "[snapshotting, additional, metadata, ima => Whitebox Testing\n",
      "[hard, reboot, operation, fail, force, d => Whitebox Testing\n",
      "[look, current, icehouse, code, apply, p => Compute Migration\n",
      "[expect, live, migration, migrate, rescu => Compute Migration\n",
      "[reproduce, create, private, flavor, pri => Design Limitation\n",
      "[horizon, admin, hypervisors, disk, usag => Inconsistent state\n",
      "[service, delete, call, local, delete, s => Volume unusable\n",
      "[attempt, connect, multiple, security, g => Design Limitation\n",
      "[deploy, vmware, driver, connect, vmware => Design Limitation\n",
      "[issue, libvirt, driver, return, always, => Whitebox Testing\n",
      "[support, enable, never, however, build, => Whitebox Testing\n",
      "[attach, already, attach, raise, invalid => Inconsistent state\n",
      "[policy, dedicate, policy, dedicate, res => Inconsistent state\n",
      "[follow, tempest, test, occur, tempest,  => Whitebox Testing\n",
      "[alias, task, change, task, need, provid => Whitebox Testing\n",
      "[step, reproduce, create, shutdown, perf => Compute Migration\n",
      "[periodic, task, detect, conflict, state => Whitebox Testing\n",
      "[root, mean, size, host, local, disk, ro => Whitebox Testing\n",
      "[evacuate, involve, rebuild, host, howev => Compute Migration\n",
      "[followup, regression, report, https, la => Design Limitation\n",
      "[currently, quota, usage, table, contain => Inconsistent state\n",
      "[change, merge, change, acdd, cease, wor => Design Limitation\n",
      "[http, check, gate, tempest, dsvm, full, => Race Condition\n",
      "[report, base, code, inspection, current => Compute Migration\n",
      "[report, upon, code, inspection, confirm => Compute Migration\n",
      "[printable, character, outside, xffff, r => Whitebox Testing\n",
      "[service, start, host, init, result, ini => Inconsistent state\n",
      "[crypto, generate, winrm, cert, generate => Whitebox Testing\n",
      "[issue, exist, vmware, driver, resize, v => Incorrect Error Handling\n",
      "[http, xenproject, check, dsvm, tempest, => Whitebox Testing\n",
      "[debug, session, curl, http, servers, na => Whitebox Testing\n",
      "[http, check, gate, tempest, dsvm, postg => Incorrect Error Handling\n",
      "[discuss, mail, list, http, list, piperm => Incorrect Error Handling\n",
      "[ceph, backend, show, hypervisor, summar => Inconsistent state\n",
      "[negative, test, case, return, unexpecte => Inconsistent state\n",
      "[summary, meta, data, case, sensitive, p => Inconsistent state\n",
      "[gate, tempest, dsvm, multinode, live, m => Compute Migration\n",
      "[current, case, shelve, backend, shelve, => Inconsistent state\n",
      "[scheduler, consume, disk, resources, ho => Whitebox Testing\n",
      "[reproduce, method, follow, create, imag => Inconsistent state\n",
      "[scenario, create, sriov, port, vnic, st => Compute Migration\n",
      "[discover, experimental, libvirt, tempes => Compute Migration\n",
      "[single, node, devstack, current, trunk, => Whitebox Testing\n",
      "[establish, still, prevalent, gain, sign => Oversize\n",
      "[version, mitaka, reproduce, step, examp => Whitebox Testing\n",
      "[reproduce, issue, follow, step, create, => Whitebox Testing\n",
      "[newton, devstack, create, today, neutro => Resource Allocation\n",
      "[description, boot, freebsd, image, libe => Whitebox Testing\n",
      "[xenproject, http, xenproject, check, ds => Compute Migration\n",
      "[look, internal, state, cinder, determin => Inconsistent state\n",
      "[check, whether, port, associate, node,  => Whitebox Testing\n",
      "[correct, step, reproduce, description,  => Incorrect Error Handling\n",
      "[description, allow, users, free, form,  => Inconsistent state\n",
      "[description, libvirt, driver, encounter => Compute Migration\n",
      "[prior, commit, crypto, generate, finger => Whitebox Testing\n",
      "[pair, create, name, main, find, create, => Design Limitation\n",
      "[description, boot, guest, neutron, port => Design Limitation\n",
      "[warn, show, mean, probably, warn, http, => Incorrect Error Handling\n",
      "[configure, backend, spawn, base, glance => Whitebox Testing\n",
      "[scheduler, seem, like, asci, character, => Inconsistent state\n",
      "[code, create, image, base, http, cgit,  => Whitebox Testing\n",
      "[code, attach, shelve, offload, https, g => Inconsistent state\n",
      "[tempest, test, test, swap, intermittent => Whitebox Testing\n",
      "[version, placement, responses, send, wi => Resource Allocation\n",
      "[ocata, devstack, watchdog, action, imag => Whitebox Testing\n",
      "[attempt, boot, server, block, device, i => Inconsistent state\n",
      "[cinder, fail, attach, second, second, s => Inconsistent state\n",
      "[several, table, duplicate, index, defin => Whitebox Testing\n",
      "[http, check, gate, tempest, dsvm, neutr => Incorrect Error Handling\n",
      "[description, quota, show, pair, keypair => Inconsistent state\n",
      "[boot, block, device, provide, current,  => Whitebox Testing\n",
      "[http, check, gate, tempest, dsvm, full, => Compute Migration\n",
      "[http, check, gate, grenade, dsvm, neutr => Inconsistent state\n",
      "[currently, apis, update, server, metada => Whitebox Testing\n",
      "[schema, string, integer, handle, case,  => Whitebox Testing\n",
      "[resource, tracker, check, resource, usa => Compute Migration\n",
      "[create, resource, class, placement, lay => Whitebox Testing\n",
      "[network, environment, module, instead,  => Design Limitation\n",
      "[general, incorrect, value, config, vari => Whitebox Testing\n",
      "[boot, state, reason, boot, remain, stat => Inconsistent state\n",
      "[race, create, fetch, security, group, r => Design Limitation\n",
      "[possible, correction, logic, handle, mi => Compute Migration\n",
      "[ceph, backend, node, report, disk, usag => Design Limitation\n",
      "[fixme, comment, eval, evil, obviously,  => Compute Migration\n",
      "[version, stable, juno, description, rep => Compute Migration\n",
      "[follow, command, cinder, create, image, => Inconsistent state\n",
      "[description, problem, save, templates,  => Whitebox Testing\n",
      "[precondition, iscsi, multipath, true, l => Whitebox Testing\n",
      "[attach, attach, fail, status, available => Inconsistent state\n",
      "[reproduce, step, boot, instancea, anti, => Inconsistent state\n",
      "[master, fakedrivers, live, migrate, eve => Compute Migration\n",
      "[step, create, create, attach, pause, de => Inconsistent state\n",
      "[mirantis, find, physical, information,  => Resource Allocation\n",
      "[step, reproduce, create, server, exist, => Incorrect Error Handling\n",
      "[deploy, icehouse, boot, test, delete, t => Design Limitation\n",
      "[attach, invalid, already, attach, http, => Whitebox Testing\n",
      "[live, migration, host, host, live, migr => Compute Migration\n",
      "[lioadm, cinder, iscsi, helper, enable,  => Whitebox Testing\n",
      "[pass, migrate, data, live, migration, r => Compute Migration\n",
      "[environment, novaclient, check, source, => Incorrect Error Handling\n",
      "[latest, code, cluster, driver, take, sn => Compute Migration\n",
      "[reproduce, problem, create, neutron, po => Whitebox Testing\n",
      "[scale, test, horizon, face, several, pr => Whitebox Testing\n",
      "[create, bootable, volumes, finish, scri => Whitebox Testing\n",
      "[show, quite, often, cells, contribute,  => Compute Migration\n",
      "[behavior, observe, follow, platforms, i => Whitebox Testing\n",
      "[property, disable, terminate, initializ => Whitebox Testing\n",
      "[devstack, setup, fairly, latest, create => Compute Migration\n",
      "[network, multi, host, configuration, ad => Whitebox Testing\n",
      "[wrap, exception, decorator, exception,  => Whitebox Testing\n",
      "[unskip, test, stamp, pattern, scenario, => Race Condition\n",
      "[action, unique, uuid, request, point, d => Whitebox Testing\n",
      "[boot, image, create, zone, specify, cou => Whitebox Testing\n",
      "[detail, description, step, configure, v => Design Limitation\n",
      "[exact, version, kilo, stable, relevant, => Whitebox Testing\n",
      "[extra, specs, flavor, extra, specs, arc => Whitebox Testing\n",
      "[virt, libvirt, imagebackend, contain, c => Whitebox Testing\n",
      "[roll, back, destination, node, case, li => Compute Migration\n",
      "[open, base, comment, another, https, la => Whitebox Testing\n",
      "[clean, phase, driver, destroy, disk, pa => Incorrect Error Handling\n",
      "[call, take, tenant, user, parameter, in => Inconsistent state\n",
      "[migration, status, hard, code, define,  => Compute Migration\n",
      "[prolong, outage, hours, cache, image, s => Resource Allocation\n",
      "[refer, liberty, hypervisor, boot, horiz => Whitebox Testing\n",
      "[migrate, affinity, clearly, hard, anti, => Design Limitation\n",
      "[test, defer, delete, function, find, so => Volume unusable\n",
      "[make, request, explicit, type, accept,  => Whitebox Testing\n",
      "[mitaka, cloud, archive, trusty, problem => Oversize\n",
      "[target, delete, detach, environment, re => Whitebox Testing\n",
      "[pass, source, group, create, security,  => Design Limitation\n",
      "[iscsi, address, store, block, device, t => Design Limitation\n",
      "[description, boot, live, migration, con => Compute Migration\n",
      "[description, deploy, several, virtual,  => Whitebox Testing\n",
      "[description, vlanid, vswitch, portgroup => Whitebox Testing\n",
      "[description, observe, internal, server, => Whitebox Testing\n",
      "[description, newton, release, ironic, s => Design Limitation\n",
      "[test, manage, neutron, port, find, boot => Timeout due to oversize\n",
      "[scheduler, ability, track, hypervisor,  => Resource Allocation\n",
      "[snapshot, back, task, state, execution, => Inconsistent state\n",
      "[purely, code, inspection, replicate, sy => Whitebox Testing\n",
      "[patch, cbab, introduce, config, options => Whitebox Testing\n",
      "[evacuate, attempt, rebuild, different,  => Incorrect Error Handling\n",
      "[evacuate, host, evacuate, recreate, sri => Incorrect Error Handling\n",
      "[immediately, start, service, host, conc => Incorrect Error Handling\n",
      "[build, glance, client, throw, imagenotf => Inconsistent state\n",
      "[deploy, attach, network, subnet, infact => Inconsistent state\n",
      "[currently, libvirt, driver, hardcoded,  => Inconsistent state\n",
      "[boot, bootable, swap, bootable, possibl => Whitebox Testing\n",
      "[notice, ceph, tempest, http, check, gat => Race Condition\n",
      "[description, high, speed, disk, storage => Timeout due to oversize\n",
      "[description, upgrade, deployment, mitak => Whitebox Testing\n",
      "[description, fail, sibling, consist, si => Design Limitation\n"
     ]
    }
   ],
   "source": [
    "for i in range(len(predicted)):\n",
    "    print (str(list_test_data[i][:40])+' => '+str(predicted[i]))"
   ]
  },
  {
   "cell_type": "code",
   "execution_count": 262,
   "metadata": {},
   "outputs": [
    {
     "name": "stdout",
     "output_type": "stream",
     "text": [
      "                                precision    recall  f1-score   support\n",
      "\n",
      "Backward/Forward Compatibility       0.00      0.00      0.00         5\n",
      "             Compute Migration       0.29      0.56      0.38        16\n",
      "             Design Limitation       0.05      0.04      0.04        23\n",
      "            Inconsistent state       0.13      0.22      0.16        18\n",
      "      Incorrect Error Handling       0.15      0.12      0.13        17\n",
      "              Negative Testing       0.00      0.00      0.00         3\n",
      "                      Oversize       0.00      0.00      0.00         4\n",
      "                Race Condition       0.33      0.12      0.18         8\n",
      "                  Reboot Cycle       0.00      0.00      0.00         3\n",
      "           Resource Allocation       0.17      0.09      0.12        11\n",
      "            SIG_TERM/Core Dump       0.00      0.00      0.00         3\n",
      "               Security Threat       0.00      0.00      0.00         2\n",
      "             Storage Migration       0.00      0.00      0.00         7\n",
      "       Timeout due to oversize       0.00      0.00      0.00         4\n",
      "               Volume unusable       0.67      0.14      0.24        14\n",
      "              Whitebox Testing       0.17      0.28      0.21        36\n",
      "\n",
      "                   avg / total       0.18      0.17      0.15       174\n",
      "\n"
     ]
    },
    {
     "name": "stderr",
     "output_type": "stream",
     "text": [
      "/Library/Frameworks/Python.framework/Versions/3.6/lib/python3.6/site-packages/sklearn/metrics/classification.py:1113: UndefinedMetricWarning: Precision and F-score are ill-defined and being set to 0.0 in labels with no predicted samples.\n",
      "  'precision', 'predicted', average, warn_for)\n"
     ]
    }
   ],
   "source": [
    "print(classification_report(test_label, predicted))"
   ]
  },
  {
   "cell_type": "code",
   "execution_count": null,
   "metadata": {},
   "outputs": [],
   "source": []
  },
  {
   "cell_type": "code",
   "execution_count": null,
   "metadata": {
    "collapsed": true
   },
   "outputs": [],
   "source": []
  }
 ],
 "metadata": {
  "kernelspec": {
   "display_name": "Python 3",
   "language": "python",
   "name": "python3"
  },
  "language_info": {
   "codemirror_mode": {
    "name": "ipython",
    "version": 3
   },
   "file_extension": ".py",
   "mimetype": "text/x-python",
   "name": "python",
   "nbconvert_exporter": "python",
   "pygments_lexer": "ipython3",
   "version": "3.6.1"
  }
 },
 "nbformat": 4,
 "nbformat_minor": 2
}
